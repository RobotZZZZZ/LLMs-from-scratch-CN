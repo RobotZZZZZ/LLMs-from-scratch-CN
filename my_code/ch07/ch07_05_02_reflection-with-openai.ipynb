{
 "cells": [
  {
   "cell_type": "markdown",
   "metadata": {},
   "source": [
    "# **反思微调（Reflection-Tuning）**"
   ]
  },
  {
   "cell_type": "code",
   "execution_count": 1,
   "metadata": {},
   "outputs": [
    {
     "name": "stdout",
     "output_type": "stream",
     "text": [
      "/Users/young/project/llmProject/LLMs-from-scratch-CN/ch07/03_model-evaluation\n"
     ]
    }
   ],
   "source": [
    "# 使用sys.path添加上级目录\n",
    "import sys\n",
    "import os\n",
    "package_path = os.path.dirname(os.path.dirname(os.getcwd()))\n",
    "file_path = os.path.join(package_path, \"ch07\", \"03_model-evaluation\")\n",
    "print(file_path)\n",
    "sys.path.append(file_path)\n",
    "\n",
    "import torch\n",
    "if torch.cuda.is_available():\n",
    "   device = torch.device(\"cuda\")\n",
    "elif torch.backends.mps.is_available():\n",
    "   device = torch.device(\"mps\")\n",
    "else:\n",
    "   device = torch.device(\"cpu\")"
   ]
  },
  {
   "cell_type": "markdown",
   "metadata": {},
   "source": [
    "## 测试 OpenAI API (使用deepseek)"
   ]
  },
  {
   "cell_type": "code",
   "execution_count": 2,
   "metadata": {},
   "outputs": [],
   "source": [
    "def run_chatgpt(prompt, client, model=\"gpt-4-turbo\", system_prompt=None):\n",
    "    messages = []\n",
    "\n",
    "    # 增加system prompt\n",
    "    if system_prompt:\n",
    "        messages.append({\"role\": \"system\", \"content\": system_prompt})\n",
    "\n",
    "    messages.append({\"role\": \"user\", \"content\": prompt})\n",
    "\n",
    "    response = client.chat.completions.create(\n",
    "        model=model,\n",
    "        messages=messages,\n",
    "        temperature=0.0,\n",
    "        seed=123,\n",
    "    )\n",
    "\n",
    "    return response.choices[0].message.content"
   ]
  },
  {
   "cell_type": "code",
   "execution_count": 4,
   "metadata": {},
   "outputs": [],
   "source": [
    "from openai import OpenAI\n",
    "from config_manager import config_manager\n",
    "\n",
    "config = config_manager.config\n",
    "api_key = config.get('api', {}).get('deepseek_api_key')\n",
    "if not api_key:\n",
    "    raise ValueError(\"需要提供API密钥\")\n",
    "model = config.get('api', {}).get('model', 'deepseek-chat')\n",
    "\n",
    "# 初始化OpenAI客户端来访问Deepseek API\n",
    "client = OpenAI(\n",
    "    api_key=api_key,\n",
    "    base_url=config.get('api', {}).get('deepseek_api_url')\n",
    ")"
   ]
  },
  {
   "cell_type": "code",
   "execution_count": 5,
   "metadata": {},
   "outputs": [
    {
     "data": {
      "text/plain": [
       "'hello world'"
      ]
     },
     "execution_count": 5,
     "metadata": {},
     "output_type": "execute_result"
    }
   ],
   "source": [
    "# 准备输入\n",
    "prompt = f\"Respond with 'hello world' if you got this message.\"\n",
    "run_chatgpt(prompt, client, model)"
   ]
  },
  {
   "cell_type": "code",
   "execution_count": 7,
   "metadata": {},
   "outputs": [
    {
     "name": "stdout",
     "output_type": "stream",
     "text": [
      "Number of entries: 1100\n"
     ]
    }
   ],
   "source": [
    "## 加载json数据\n",
    "import json\n",
    "from pathlib import Path\n",
    "\n",
    "data_dir = \"../../ch07/01_main-chapter-code/\"\n",
    "json_file =  \"instruction-data.json\"\n",
    "\n",
    "with open(data_dir + json_file, \"r\") as file:\n",
    "    json_data = json.load(file)\n",
    "\n",
    "print(\"Number of entries:\", len(json_data))"
   ]
  },
  {
   "cell_type": "code",
   "execution_count": 8,
   "metadata": {},
   "outputs": [
    {
     "name": "stdout",
     "output_type": "stream",
     "text": [
      "{'instruction': 'Evaluate the following phrase by transforming it into the '\n",
      "                'spelling given.',\n",
      " 'input': 'freind --> friend',\n",
      " 'output': 'The spelling of the given phrase \"freind\" is incorrect, the '\n",
      "           'correct spelling is \"friend\".'}\n"
     ]
    }
   ],
   "source": [
    "from pprint import pp as pprint\n",
    "\n",
    "pprint(json_data[0])"
   ]
  },
  {
   "cell_type": "markdown",
   "metadata": {},
   "source": [
    "## 优化指令数据"
   ]
  },
  {
   "cell_type": "code",
   "execution_count": 9,
   "metadata": {},
   "outputs": [],
   "source": [
    "# 优化指令数据的工具函数\n",
    "def instr_prompt_no_input(ins, outp):\n",
    "\n",
    "    sys_prompt = \"You are a helpful, precise but picky assistant for checking the quality of a given instruction.\"\n",
    "    prompt_template = \"[Instruction]\\n{ins}\\n\\n[The Start of Answer]\\n{outp}\\n\\n[The End of Answer]\\n\\n[System]\\n{criteria}\\n\\n\"\n",
    "    criteria = \"We would like you to answer several questions related to the quality of a given instruction. \\n\" + \\\n",
    "                \"1. Why this instruction is not good? First analyse the instruction based on Complexity of the Topic, Level of Detail Required, Knowledge Required, Ambiguity of the Instruction and Logical Reasoning or Problem-Solving Involved. \\n\" + \\\n",
    "                \"Then analyse why this answer is not good for the given instruction? Analyse based on the Helpfulness, Relevance, Accuracy and Level of Details. \\n\" + \\\n",
    "                \"Finally analyse why this bad instruction lead to a bad answer. \" +\\\n",
    "                \"2. Based on the reason you provided, generate a new and complete instruction which is complex and difficult to answer directly. \" + \\\n",
    "                \"Make sure the new instruction is relevent but independent to the original instruction, which can be answered without knowing the original instruction, put the new instruction in the format of [New Instruction] your instruction [End]\" +\\\n",
    "                \"3. Answer the newly generated instruction as detailed as possible, in the format of [New Answer] your answer [End] \\n\"\n",
    "    prompt = prompt_template.format(\n",
    "        ins=ins, outp=outp, criteria=criteria\n",
    "    )\n",
    "    return sys_prompt, prompt"
   ]
  },
  {
   "cell_type": "code",
   "execution_count": 10,
   "metadata": {},
   "outputs": [
    {
     "name": "stdout",
     "output_type": "stream",
     "text": [
      "{'instruction': 'Convert 45 kilometers to meters.',\n",
      " 'input': '',\n",
      " 'output': '45 kilometers is 45000 meters.'}\n"
     ]
    }
   ],
   "source": [
    "# 查看原始的指令数据\n",
    "pprint(json_data[2])"
   ]
  },
  {
   "cell_type": "code",
   "execution_count": 12,
   "metadata": {},
   "outputs": [
    {
     "name": "stdout",
     "output_type": "stream",
     "text": [
      "### Analysis of the Instruction and Answer\n",
      "\n",
      "**1. Why the Instruction is Not Good:**\n",
      "- **Complexity of the Topic:** The instruction is overly simplistic. Converting kilometers to meters is a basic unit conversion that requires minimal effort or thought.\n",
      "- **Level of Detail Required:** The instruction does not ask for any explanation or intermediate steps, just a direct conversion.\n",
      "- **Knowledge Required:** The knowledge required is very basic (understanding the metric system's prefixes).\n",
      "- **Ambiguity of the Instruction:** There is no ambiguity—the instruction is clear but trivial.\n",
      "- **Logical Reasoning or Problem-Solving Involved:** Almost none. The conversion is straightforward and does not require problem-solving.\n",
      "\n",
      "**2. Why the Answer is Not Good for the Given Instruction:**\n",
      "- **Helpfulness:** The answer is correct but provides no additional value (e.g., no explanation or context).\n",
      "- **Relevance:** The answer is relevant but too brief.\n",
      "- **Accuracy:** The answer is accurate but lacks depth.\n",
      "- **Level of Details:** The answer is minimal and does not address any potential nuances or teaching moments.\n",
      "\n",
      "**3. Why the Bad Instruction Leads to a Bad Answer:**\n",
      "The instruction is so simple that it does not encourage a detailed or thoughtful response. The answer merely reflects the lack of depth in the instruction. A more complex or open-ended instruction would prompt a more detailed and useful answer.\n",
      "\n",
      "---\n",
      "\n",
      "### New Instruction\n",
      "[New Instruction]  \n",
      "Explain the process of converting kilometers to meters, including the mathematical reasoning behind the conversion factor. Additionally, discuss why the metric system uses a base-10 system for such conversions and how this compares to other unit systems (e.g., imperial). Provide examples of real-world scenarios where this conversion might be critical.  \n",
      "[End]  \n",
      "\n",
      "---\n",
      "\n",
      "### New Answer\n",
      "[New Answer]  \n",
      "**Process of Converting Kilometers to Meters:**  \n",
      "1. **Understanding the Units:**  \n",
      "   - A kilometer (km) is a unit of length in the metric system equal to 1,000 meters (m).  \n",
      "   - The prefix \"kilo-\" denotes a factor of 1,000 in the metric system.  \n",
      "\n",
      "2. **Mathematical Reasoning:**  \n",
      "   - To convert kilometers to meters, multiply the number of kilometers by 1,000.  \n",
      "   - Example: \\( 45 \\text{ km} \\times 1,000 = 45,000 \\text{ m} \\).  \n",
      "\n",
      "3. **Why Base-10?**  \n",
      "   - The metric system is decimal-based, meaning it uses powers of 10 for conversions. This makes calculations straightforward because shifting the decimal point is all that’s required.  \n",
      "   - For example, converting 45 km to meters involves moving the decimal point 3 places to the right (since \\( 10^3 = 1,000 \\)).  \n",
      "\n",
      "4. **Comparison to Imperial System:**  \n",
      "   - The imperial system (e.g., miles to feet) does not use a base-10 system. For example, 1 mile = 5,280 feet, which is not intuitive or easy to calculate.  \n",
      "   - The metric system’s consistency simplifies scientific, engineering, and everyday calculations.  \n",
      "\n",
      "5. **Real-World Scenarios:**  \n",
      "   - **Transportation:** Road signs in some countries list distances in kilometers, but construction or engineering plans may require meters.  \n",
      "   - **Sports:** Track events like marathons (42.195 km) are often measured in kilometers, but splits or smaller segments may be tracked in meters.  \n",
      "   - **Science:** Lab measurements often use meters or smaller units, while field observations might use kilometers. Converting between the two ensures consistency in data reporting.  \n",
      "\n",
      "**Conclusion:**  \n",
      "The conversion from kilometers to meters is simple due to the metric system’s base-10 design, which is more logical and scalable than non-decimal systems like the imperial system. This simplicity is critical in fields requiring precision and ease of calculation.  \n",
      "[End]\n"
     ]
    }
   ],
   "source": [
    "# 使用工具函数优化指令数据\n",
    "entry = json_data[2]\n",
    "sys_prompt, prompt = instr_prompt_no_input(entry[\"instruction\"], entry[\"output\"])\n",
    "output = run_chatgpt(prompt, client, model, system_prompt=sys_prompt)\n",
    "print(output)"
   ]
  },
  {
   "cell_type": "code",
   "execution_count": 13,
   "metadata": {},
   "outputs": [],
   "source": [
    "# 提取优化后的指令和回答\n",
    "import re\n",
    "\n",
    "# 提取优化后指令的工具函数\n",
    "def extract_ins(text, no_input=True):\n",
    "    if '[New Instruction]' in text:\n",
    "        pattern = r'(\\[New Instruction\\])(.*?)(\\[End\\]|\\[New Answer\\]|New Answer:)'\n",
    "    else:\n",
    "        pattern = r'(New Instruction:)(.*?)(\\[End\\]|\\[New Answer\\]|New Answer:)'\n",
    "    segments = re.findall(pattern, text, re.DOTALL)\n",
    "    if len(segments) == 0:\n",
    "        seg_ins = ''\n",
    "    else:\n",
    "        seg_ins = segments[0][1].strip()\n",
    "    if seg_ins.endswith(\"\\n\\n3.\"):\n",
    "        seg_ins = seg_ins[:-4]\n",
    "    return seg_ins\n",
    "\n",
    "# 提取优化后回答的工具函数\n",
    "def extract_oup(text, no_input=True):\n",
    "    if '[New Answer]' in text:\n",
    "        pattern = r'(\\[New Answer\\])(.*?)(\\[End\\]|$)'\n",
    "    else:\n",
    "        pattern = r'(New Answer:)(.*?)(\\[End\\]|$)'\n",
    "        # pattern = r'(\\[New Answer\\]|New Answer:)(.*?)(\\[End\\]|$)'\n",
    "    segments = re.findall(pattern, text, re.DOTALL)\n",
    "    if len(segments) == 0:\n",
    "        seg_oup = ''\n",
    "    else:\n",
    "        seg_oup = segments[0][1].strip()\n",
    "    return seg_oup\n",
    "\n",
    "# 提取优化后指令和回答的工具函数\n",
    "def extract_instruction(text):\n",
    "    if text == '':\n",
    "        return []\n",
    "    seg_ins = extract_ins(text, no_input=True)\n",
    "    seg_oup = extract_oup(text, no_input=True)\n",
    "    return [seg_ins, seg_oup]"
   ]
  },
  {
   "cell_type": "code",
   "execution_count": 15,
   "metadata": {},
   "outputs": [
    {
     "data": {
      "text/plain": [
       "'hello world'"
      ]
     },
     "execution_count": 15,
     "metadata": {},
     "output_type": "execute_result"
    }
   ],
   "source": [
    "# 准备输入\n",
    "prompt = f\"Respond with 'hello world' if you got this message.\"\n",
    "run_chatgpt(prompt, client, model)"
   ]
  },
  {
   "cell_type": "code",
   "execution_count": 16,
   "metadata": {},
   "outputs": [],
   "source": [
    "# 从之前的output中提取优化后的指令和回答\n",
    "new_instr, new_outp = extract_instruction(output)"
   ]
  },
  {
   "cell_type": "code",
   "execution_count": 17,
   "metadata": {},
   "outputs": [
    {
     "name": "stdout",
     "output_type": "stream",
     "text": [
      "Explain the process of converting kilometers to meters, including the mathematical reasoning behind the conversion factor. Additionally, discuss why the metric system uses a base-10 system for such conversions and how this compares to other unit systems (e.g., imperial). Provide examples of real-world scenarios where this conversion might be critical.\n"
     ]
    }
   ],
   "source": [
    "print(new_instr)"
   ]
  },
  {
   "cell_type": "code",
   "execution_count": 18,
   "metadata": {},
   "outputs": [
    {
     "name": "stdout",
     "output_type": "stream",
     "text": [
      "**Process of Converting Kilometers to Meters:**  \n",
      "1. **Understanding the Units:**  \n",
      "   - A kilometer (km) is a unit of length in the metric system equal to 1,000 meters (m).  \n",
      "   - The prefix \"kilo-\" denotes a factor of 1,000 in the metric system.  \n",
      "\n",
      "2. **Mathematical Reasoning:**  \n",
      "   - To convert kilometers to meters, multiply the number of kilometers by 1,000.  \n",
      "   - Example: \\( 45 \\text{ km} \\times 1,000 = 45,000 \\text{ m} \\).  \n",
      "\n",
      "3. **Why Base-10?**  \n",
      "   - The metric system is decimal-based, meaning it uses powers of 10 for conversions. This makes calculations straightforward because shifting the decimal point is all that’s required.  \n",
      "   - For example, converting 45 km to meters involves moving the decimal point 3 places to the right (since \\( 10^3 = 1,000 \\)).  \n",
      "\n",
      "4. **Comparison to Imperial System:**  \n",
      "   - The imperial system (e.g., miles to feet) does not use a base-10 system. For example, 1 mile = 5,280 feet, which is not intuitive or easy to calculate.  \n",
      "   - The metric system’s consistency simplifies scientific, engineering, and everyday calculations.  \n",
      "\n",
      "5. **Real-World Scenarios:**  \n",
      "   - **Transportation:** Road signs in some countries list distances in kilometers, but construction or engineering plans may require meters.  \n",
      "   - **Sports:** Track events like marathons (42.195 km) are often measured in kilometers, but splits or smaller segments may be tracked in meters.  \n",
      "   - **Science:** Lab measurements often use meters or smaller units, while field observations might use kilometers. Converting between the two ensures consistency in data reporting.  \n",
      "\n",
      "**Conclusion:**  \n",
      "The conversion from kilometers to meters is simple due to the metric system’s base-10 design, which is more logical and scalable than non-decimal systems like the imperial system. This simplicity is critical in fields requiring precision and ease of calculation.\n"
     ]
    }
   ],
   "source": [
    "print(new_outp)"
   ]
  },
  {
   "cell_type": "markdown",
   "metadata": {},
   "source": [
    "## 优化响应"
   ]
  },
  {
   "cell_type": "code",
   "execution_count": 19,
   "metadata": {},
   "outputs": [],
   "source": [
    "# 响应优化的工具函数\n",
    "def res_gen_prompt_no_input(ins, outp):\n",
    "\n",
    "    sys_prompt = \"You are a helpful, precise but picky assistant for checking the quality of the answer to a given instruction.\"\n",
    "    prompt_template = \"[Instruction]\\n{ins}\\n\\n[The Start of Answer]\\n{outp}\\n\\n[The End of Answer]\\n\\n[System]\\n{criteria}\\n\\n\"\n",
    "    criteria = \"We would like you to answer several questions related to the quality of the answer to the given instruction. \\n\" + \\\n",
    "                \"1. Why this answer is not good for the given instruction? Analyse based on the Helpfulness, Relevance, Accuracy and Level of Details. \\n\" + \\\n",
    "                \"2. Based on the reason you provided, generate a better answer, new and complete, as detailed as possible, in the format of [Better Answer] your answer [End] \\n\" \n",
    "    prompt = prompt_template.format(\n",
    "        ins=ins, outp=outp, criteria=criteria\n",
    "    )\n",
    "    return sys_prompt, prompt\n",
    "\n",
    "\n",
    "def res_gen_prompt_input(ins, inp, outp):\n",
    "\n",
    "    sys_prompt = \"You are a helpful and precise assistant for checking the quality of the answer to a given instruction and its input.\"\n",
    "    prompt_template = \"[Instruction]\\n{ins}\\n\\n[The Start of Input]\\n{inp}\\n\\n[The End of Input]\\n\\n[The Start of Answer]\\n{outp}\\n\\n[The End of Answer]\\n\\n[System]\\n{criteria}\\n\\n\"\n",
    "    criteria = \"We would like you to answer several questions related to the quality of the answer to the given instruction and corresponding input. \\n\" + \\\n",
    "                \"1. Why this answer is not good for the given instruction and corresponding input? Analyse based on the Helpfulness, Relevance, Accuracy and Level of Details. \\n\" + \\\n",
    "                \"2. Based on the reason you provided, generate a better answer, new and complete, as detailed as possible, in the format of [Better Answer] your answer [End] \\n\" \n",
    "    prompt = prompt_template.format(\n",
    "        ins=ins, inp=inp, outp=outp, criteria=criteria\n",
    "    )\n",
    "    return sys_prompt, prompt"
   ]
  },
  {
   "cell_type": "code",
   "execution_count": 21,
   "metadata": {},
   "outputs": [
    {
     "name": "stdout",
     "output_type": "stream",
     "text": [
      "1. Analysis of the Answer:\n",
      "   - **Helpfulness**: The answer is helpful as it provides the correct conversion from kilometers to meters.\n",
      "   - **Relevance**: The answer is relevant to the instruction, as it directly addresses the request to convert 45 kilometers to meters.\n",
      "   - **Accuracy**: The answer is accurate, as 45 kilometers is indeed equal to 45,000 meters.\n",
      "   - **Level of Details**: The answer lacks detail. It does not explain the conversion process or the relationship between kilometers and meters, which could be useful for someone learning about unit conversions.\n",
      "\n",
      "2. Better Answer:\n",
      "[Better Answer]\n",
      "To convert 45 kilometers to meters, you need to understand the relationship between kilometers and meters. \n",
      "- 1 kilometer (km) is equal to 1,000 meters (m). \n",
      "- Therefore, to convert kilometers to meters, you multiply the number of kilometers by 1,000. \n",
      "\n",
      "Calculation:\n",
      "45 km × 1,000 m/km = 45,000 m\n",
      "\n",
      "So, 45 kilometers is equal to 45,000 meters.\n",
      "[End]\n"
     ]
    }
   ],
   "source": [
    "# 查看响应优化的效果\n",
    "entry = json_data[2]\n",
    "\n",
    "system_prompt, prompt = res_gen_prompt_no_input(ins=entry[\"instruction\"], outp=entry[\"output\"])\n",
    "output = run_chatgpt(prompt=prompt, client=client, model=model, system_prompt=system_prompt)\n",
    "\n",
    "print(output)"
   ]
  },
  {
   "cell_type": "code",
   "execution_count": 22,
   "metadata": {},
   "outputs": [],
   "source": [
    "# 提取优化后的响应\n",
    "def extract_response(text):\n",
    "    if text.count('[Better Answer]') >= 2:\n",
    "        pattern = r'\\[(Better Answer)\\](.*?)(\\[End\\]|\\[Better Answer\\]|$)'\n",
    "        segments = re.findall(pattern, text, re.DOTALL)\n",
    "    else:\n",
    "        # pattern = r'\\[(Better Answer)\\](.*?)\\[End\\]'\n",
    "        pattern = r'\\[(Better Answer)\\](.*?)(\\[End\\]|End|$)'\n",
    "        segments = re.findall(pattern, text, re.DOTALL)\n",
    "    return [segment[1].strip() for segment in segments]"
   ]
  },
  {
   "cell_type": "code",
   "execution_count": 23,
   "metadata": {},
   "outputs": [
    {
     "name": "stdout",
     "output_type": "stream",
     "text": [
      "To convert 45 kilometers to meters, you need to understand the relationship between kilometers and meters. \n",
      "- 1 kilometer (km) is equal to 1,000 meters (m). \n",
      "- Therefore, to convert kilometers to meters, you multiply the number of kilometers by 1,000. \n",
      "\n",
      "Calculation:\n",
      "45 km × 1,000 m/km = 45,000 m\n",
      "\n",
      "So, 45 kilometers is equal to 45,000 meters.\n"
     ]
    }
   ],
   "source": [
    "response = extract_response(output)[0]\n",
    "print(response)"
   ]
  },
  {
   "cell_type": "markdown",
   "metadata": {},
   "source": [
    "## 优化数据集"
   ]
  },
  {
   "cell_type": "code",
   "execution_count": 24,
   "metadata": {},
   "outputs": [],
   "source": [
    "data_to_process = json_data[:3]"
   ]
  },
  {
   "cell_type": "code",
   "execution_count": 25,
   "metadata": {},
   "outputs": [],
   "source": [
    "from tqdm import tqdm\n",
    "\n",
    "\n",
    "def reflect_instructions(json_data, client):\n",
    "    new_json_data = []\n",
    "\n",
    "    for entry in tqdm(json_data):\n",
    "\n",
    "        if not entry[\"input\"]:\n",
    "            system_prompt, prompt = instr_prompt_no_input(ins=entry[\"instruction\"], outp=entry[\"output\"])\n",
    "            output = run_chatgpt(prompt=prompt, client=client, model=model, system_prompt=system_prompt)\n",
    "            new_instr, new_outp = extract_instruction(output)\n",
    "            new_entry = {\"instruction\": new_instr, \"input\": \"\", \"output\": new_outp}\n",
    "            new_json_data.append(new_entry)\n",
    "        else:\n",
    "            new_json_data.append(entry)\n",
    "    \n",
    "    return new_json_data"
   ]
  },
  {
   "cell_type": "code",
   "execution_count": 26,
   "metadata": {},
   "outputs": [
    {
     "name": "stderr",
     "output_type": "stream",
     "text": [
      "100%|██████████| 3/3 [00:33<00:00, 11.15s/it]\n"
     ]
    }
   ],
   "source": [
    "data_to_process = json_data[:3]\n",
    "\n",
    "new_json_data = reflect_instructions(data_to_process, client)"
   ]
  },
  {
   "cell_type": "code",
   "execution_count": 27,
   "metadata": {},
   "outputs": [
    {
     "name": "stdout",
     "output_type": "stream",
     "text": [
      "{'instruction': 'Evaluate the following phrase by transforming it into the '\n",
      "                'spelling given.',\n",
      " 'input': 'freind --> friend',\n",
      " 'output': 'The spelling of the given phrase \"freind\" is incorrect, the '\n",
      "           'correct spelling is \"friend\".'}\n",
      "\n",
      "\n",
      "\n",
      "{'instruction': 'Edit the following sentence for grammar.',\n",
      " 'input': 'He go to the park every day.',\n",
      " 'output': 'He goes to the park every day.'}\n",
      "\n",
      "\n",
      "\n",
      "{'instruction': 'Explain the process of converting kilometers to meters, '\n",
      "                'including the mathematical reasoning behind the conversion '\n",
      "                'factor. Then, apply this process to convert 45 kilometers to '\n",
      "                'meters, showing all steps. Finally, discuss a real-world '\n",
      "                'scenario where such a conversion might be necessary.',\n",
      " 'input': '',\n",
      " 'output': '**Process of Converting Kilometers to Meters:**  \\n'\n",
      "           '1. **Understanding the Units:**  \\n'\n",
      "           '   - The metric system is based on powers of 10. \\n'\n",
      "           '   - \"Kilo-\" is a prefix meaning 1,000, so 1 kilometer (km) = '\n",
      "           '1,000 meters (m).  \\n'\n",
      "           '\\n'\n",
      "           '2. **Mathematical Reasoning:**  \\n'\n",
      "           '   - The conversion factor is derived from the definition of the '\n",
      "           'prefix \"kilo-.\"  \\n'\n",
      "           '   - To convert km to m, multiply the number of kilometers by '\n",
      "           '1,000 (since 1 km = 10³ m).  \\n'\n",
      "           '\\n'\n",
      "           '3. **Applying the Conversion to 45 km:**  \\n'\n",
      "           '   - Calculation: 45 km × 1,000 m/km = 45,000 m.  \\n'\n",
      "           '   - Steps:  \\n'\n",
      "           '     - Write down the given value: 45 km.  \\n'\n",
      "           '     - Multiply by the conversion factor: 45 × 1,000 = 45,000.  \\n'\n",
      "           '     - Label the result: 45,000 m.  \\n'\n",
      "           '\\n'\n",
      "           '4. **Real-World Scenario:**  \\n'\n",
      "           '   - **Example:** A marathon is approximately 42.195 km long. To '\n",
      "           'mark the course in meters (e.g., for signage or tracking), you '\n",
      "           'would convert this distance to meters:  \\n'\n",
      "           '     - 42.195 km × 1,000 = 42,195 m.  \\n'\n",
      "           '   - This conversion is critical in fields like engineering, '\n",
      "           'sports, or transportation where precision is required.  \\n'\n",
      "           '\\n'\n",
      "           '**Final Answer:** 45 kilometers is equal to 45,000 meters.'}\n",
      "\n",
      "\n",
      "\n"
     ]
    }
   ],
   "source": [
    "for i in new_json_data:\n",
    "    pprint(i)\n",
    "    print(\"\\n\\n\")"
   ]
  },
  {
   "cell_type": "code",
   "execution_count": 29,
   "metadata": {},
   "outputs": [],
   "source": [
    "with open(\"instruction-reflected.json\", \"w\") as file:\n",
    "    json.dump(new_json_data, file, indent=4)"
   ]
  },
  {
   "cell_type": "markdown",
   "metadata": {},
   "source": [
    "## 响应反思微调"
   ]
  },
  {
   "cell_type": "code",
   "execution_count": 30,
   "metadata": {},
   "outputs": [],
   "source": [
    "data_to_process = json_data[:3]"
   ]
  },
  {
   "cell_type": "code",
   "execution_count": 33,
   "metadata": {},
   "outputs": [],
   "source": [
    "def reflect_responses(json_data, client):\n",
    "    new_json_data = []\n",
    "\n",
    "    for entry in tqdm(json_data):\n",
    "        if not entry[\"input\"]:\n",
    "            system_prompt, prompt = res_gen_prompt_no_input(ins=entry[\"instruction\"], outp=entry[\"output\"])\n",
    "            output = run_chatgpt(prompt=prompt, client=client, model=model, system_prompt=system_prompt)\n",
    "            new_response = extract_response(output)\n",
    "\n",
    "            if not len(new_response):\n",
    "                new_response = entry[\"output\"]\n",
    "            \n",
    "            new_entry = {\n",
    "                \"instruction\": entry[\"instruction\"],\n",
    "                \"input\": \"\",\n",
    "                \"output\": new_response[0]\n",
    "            }\n",
    "            new_json_data.append(new_entry)\n",
    "        else:\n",
    "            system_prompt, prompt = res_gen_prompt_input(ins=entry[\"instruction\"], inp=entry[\"input\"], outp=entry[\"output\"])\n",
    "            output = run_chatgpt(prompt=prompt, client=client, model=model, system_prompt=system_prompt)\n",
    "            new_response = extract_response(output)\n",
    "\n",
    "            if not len(new_response):\n",
    "                new_response = entry[\"output\"]\n",
    "            \n",
    "            new_entry = {\n",
    "                \"instruction\": entry[\"instruction\"],\n",
    "                \"input\": \"\",\n",
    "                \"output\": new_response[0]\n",
    "            }\n",
    "            new_json_data.append(new_entry)\n",
    "    \n",
    "    return new_json_data\n"
   ]
  },
  {
   "cell_type": "code",
   "execution_count": 34,
   "metadata": {},
   "outputs": [
    {
     "name": "stderr",
     "output_type": "stream",
     "text": [
      "100%|██████████| 3/3 [00:49<00:00, 16.36s/it]\n"
     ]
    }
   ],
   "source": [
    "new_json_data = reflect_responses(data_to_process, client)"
   ]
  },
  {
   "cell_type": "code",
   "execution_count": 35,
   "metadata": {},
   "outputs": [
    {
     "name": "stdout",
     "output_type": "stream",
     "text": [
      "{'instruction': 'Evaluate the following phrase by transforming it into the '\n",
      "                'spelling given.',\n",
      " 'input': '',\n",
      " 'output': '**  \\n'\n",
      "           '   The word \"freind\" is a common misspelling of the correct term '\n",
      "           '\"friend.\" The correct spelling follows the rule \"i before e except '\n",
      "           'after c,\" which applies here (\"friend\" has the \"ie\" sequence). To '\n",
      "           'remember this, you can use the mnemonic: \"A FRIEND is always there '\n",
      "           'till the END\" (note the \"end\" in \"friend\"). The incorrect spelling '\n",
      "           '\"freind\" swaps the \"i\" and \"e,\" violating the standard spelling '\n",
      "           'rule. Always double-check such words to ensure accuracy in '\n",
      "           'writing.'}\n",
      "\n",
      "\n",
      "\n",
      "{'instruction': 'Edit the following sentence for grammar.',\n",
      " 'input': '',\n",
      " 'output': 'The original sentence, \"He go to the park every day,\" contains a '\n",
      "           'grammatical error. The verb \"go\" should be conjugated as \"goes\" to '\n",
      "           'agree with the singular third-person subject \"He.\" The corrected '\n",
      "           'sentence is: \"He goes to the park every day.\" This ensures '\n",
      "           'subject-verb agreement, which is a fundamental rule in English '\n",
      "           'grammar.'}\n",
      "\n",
      "\n",
      "\n",
      "{'instruction': 'Convert 45 kilometers to meters.',\n",
      " 'input': '',\n",
      " 'output': 'To convert 45 kilometers to meters, you need to understand the '\n",
      "           'relationship between kilometers and meters. The prefix \"kilo-\" in '\n",
      "           'the metric system means 1000. Therefore, 1 kilometer is equal to '\n",
      "           '1000 meters. \\n'\n",
      "           '\\n'\n",
      "           'To perform the conversion:\\n'\n",
      "           '1. Start with the given value: 45 kilometers.\\n'\n",
      "           '2. Multiply by the conversion factor (1000 meters/1 kilometer):\\n'\n",
      "           '   \\\\[\\n'\n",
      "           '   45 \\\\text{ kilometers} \\\\times \\\\frac{1000 \\\\text{ meters}}{1 '\n",
      "           '\\\\text{ kilometer}} = 45000 \\\\text{ meters}\\n'\n",
      "           '   \\\\]\\n'\n",
      "           '3. The kilometers cancel out, leaving you with meters.\\n'\n",
      "           '\\n'\n",
      "           'Thus, 45 kilometers is equal to 45000 meters.'}\n",
      "\n",
      "\n",
      "\n"
     ]
    }
   ],
   "source": [
    "for i in new_json_data[:3]:\n",
    "    pprint(i)\n",
    "    print(\"\\n\\n\")"
   ]
  },
  {
   "cell_type": "code",
   "execution_count": 36,
   "metadata": {},
   "outputs": [],
   "source": [
    "with open(\"response-reflected.json\", \"w\") as file:\n",
    "    json.dump(new_json_data, file, indent=4)"
   ]
  },
  {
   "cell_type": "code",
   "execution_count": null,
   "metadata": {},
   "outputs": [],
   "source": []
  }
 ],
 "metadata": {
  "kernelspec": {
   "display_name": ".venv",
   "language": "python",
   "name": "python3"
  },
  "language_info": {
   "codemirror_mode": {
    "name": "ipython",
    "version": 3
   },
   "file_extension": ".py",
   "mimetype": "text/x-python",
   "name": "python",
   "nbconvert_exporter": "python",
   "pygments_lexer": "ipython3",
   "version": "3.9.6"
  }
 },
 "nbformat": 4,
 "nbformat_minor": 2
}
