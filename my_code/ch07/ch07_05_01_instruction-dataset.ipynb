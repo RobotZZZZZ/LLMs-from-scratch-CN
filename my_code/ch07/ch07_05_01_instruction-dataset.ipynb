{
 "cells": [
  {
   "cell_type": "code",
   "execution_count": 1,
   "metadata": {},
   "outputs": [
    {
     "name": "stdout",
     "output_type": "stream",
     "text": [
      "Ollama running: True\n"
     ]
    }
   ],
   "source": [
    "# 检测ollama是否正在运行\n",
    "# 运行ollama: ollama run llama3\n",
    "import psutil \n",
    "\n",
    "def check_if_running(process_name):\n",
    "    running = False\n",
    "    for proc in psutil.process_iter([\"name\"]):\n",
    "        if process_name in proc.info[\"name\"]:\n",
    "            running = True\n",
    "            break\n",
    "    return running\n",
    "\n",
    "ollama_running = check_if_running(\"ollama\")\n",
    "\n",
    "if not ollama_running:\n",
    "    raise RuntimeError(\"Ollama not running. Lanunch ollama before proceeding.\")\n",
    "print(\"Ollama running:\", check_if_running(\"ollama\"))"
   ]
  },
  {
   "cell_type": "code",
   "execution_count": 13,
   "metadata": {},
   "outputs": [
    {
     "name": "stdout",
     "output_type": "stream",
     "text": [
      "Llamas are ruminant animals, which means they have a four-chambered stomach and primarily feed on plant-based foods. Adult llamas are herbivores and their diet typically consists of:\n",
      "\n",
      "1. Grasses: Mowed grass, hay, or pasture grass.\n",
      "2. Hay: Various types of hay such as alfalfa, timothy, or oat hay.\n",
      "3. Grains: Oats, corn, and barley grains in moderation.\n",
      "4. Leaves and shrubs: Llamas enjoy the leaves, twigs, and shrubs from trees and bushes.\n",
      "\n",
      "In terms of nutrient requirements, llamas need a diet that provides:\n",
      "\n",
      "* High-quality fiber (like hay) for digestive health\n",
      "* Adequate protein (about 1-2% of their body weight) for growth and maintenance\n",
      "* Limited amounts of energy-rich grains to avoid overfeeding\n",
      "\n",
      "Here are some specific guidelines for feeding llamas:\n",
      "\n",
      "* Hay: Provide unlimited access to good quality hay, making up about 80-90% of their diet.\n",
      "* Grains: Limit grain intake to no more than 1-2 pounds per day (about 10-20% of their daily ration).\n",
      "* Fresh water: Ensure access to clean, fresh water at all times.\n",
      "\n",
      "Baby llamas, or crias, have different dietary needs than adult llamas. They require a diet rich in nutrients and protein to support rapid growth and development. Consult with a veterinarian or experienced llama breeder for guidance on feeding young llamas.\n"
     ]
    }
   ],
   "source": [
    "# 通过REST api访问ollama\n",
    "import urllib.request\n",
    "import json\n",
    "\n",
    "def query_model(\n",
    "        prompt,\n",
    "        model=\"llama3\",\n",
    "        url=\"http://localhost:11434/api/chat\",\n",
    "        role=\"user\"\n",
    "):\n",
    "    # 构造请求数据\n",
    "    data = {\n",
    "        \"model\": model,\n",
    "        \"messages\": [\n",
    "            {\"role\": role, \"content\": prompt}\n",
    "        ],\n",
    "        \"options\": {\n",
    "            # \"seed\": 123,\n",
    "            \"temperature\": 1.,\n",
    "            \"top_p\": 1,\n",
    "            \"num_ctx\": 2048\n",
    "        }\n",
    "    }\n",
    "\n",
    "    # dict转化json并编码\n",
    "    payload = json.dumps(data).encode(\"utf-8\")\n",
    "    request = urllib.request.Request(\n",
    "        url,\n",
    "        data=payload,\n",
    "        method=\"POST\"\n",
    "    )\n",
    "    request.add_header(\"Content-Type\", \"application/json\")\n",
    "\n",
    "    # 解析返回结果\n",
    "    response_data = \"\"\n",
    "    with urllib.request.urlopen(request) as response:\n",
    "        while True:\n",
    "            line = response.readline().decode(\"utf-8\")\n",
    "            if not line:\n",
    "                break\n",
    "            response_json = json.loads(line)\n",
    "            response_data += response_json[\"message\"][\"content\"]\n",
    "    \n",
    "    return response_data\n",
    "\n",
    "model = \"llama3\"\n",
    "result = query_model(\"What do Llamas eat?\", model)\n",
    "print(result)"
   ]
  },
  {
   "cell_type": "markdown",
   "metadata": {},
   "source": [
    "## 提取指令数据"
   ]
  },
  {
   "cell_type": "code",
   "execution_count": 4,
   "metadata": {},
   "outputs": [],
   "source": [
    "def extract_instruction(text):\n",
    "    for content in text.split(\"\\n\"):\n",
    "        if content:\n",
    "            return content.strip()"
   ]
  },
  {
   "cell_type": "code",
   "execution_count": 8,
   "metadata": {},
   "outputs": [
    {
     "name": "stdout",
     "output_type": "stream",
     "text": [
      "I have a small problem with my cat, Luna. She's been having some issues with her digestive system lately.\n"
     ]
    }
   ],
   "source": [
    "# 使用一个特殊的query来提取指令\n",
    "query = \"<|begin_of_text|><|start_header_id|>user<|end_header_id|>\"\n",
    "\n",
    "result = query_model(query, role=\"assistant\")\n",
    "instruction = extract_instruction(result)\n",
    "print(instruction)"
   ]
  },
  {
   "cell_type": "code",
   "execution_count": 9,
   "metadata": {},
   "outputs": [
    {
     "name": "stdout",
     "output_type": "stream",
     "text": [
      "Sorry to hear that Luna is experiencing some tummy troubles! Cats can be notoriously finicky about their food and habits, so it's not uncommon for them to have occasional digestive issues. Can you tell me a bit more about what's been going on? Has she been vomiting, having accidents outside the litter box, or showing any other symptoms that might give us clues to what's causing the problem?\n",
      "\n",
      "Also, has her diet changed recently? Is she eating the same food and frequency as before, or have there been any changes in her eating habits? Any other details you can provide will help me better understand what might be going on with Luna.\n"
     ]
    }
   ],
   "source": [
    "# 使用指令生成响应(回答)\n",
    "response = query_model(instruction, role=\"user\")\n",
    "print(response)"
   ]
  },
  {
   "cell_type": "code",
   "execution_count": 16,
   "metadata": {},
   "outputs": [
    {
     "name": "stderr",
     "output_type": "stream",
     "text": [
      "100%|██████████| 5/5 [01:19<00:00, 15.80s/it]\n"
     ]
    }
   ],
   "source": [
    "# 生成数据集\n",
    "from tqdm import tqdm \n",
    "\n",
    "dataset_size = 5\n",
    "dataset = []\n",
    "\n",
    "for i in tqdm(range(dataset_size)):\n",
    "    result = query_model(query, role=\"assistant\")\n",
    "    instruction = extract_instruction(result)\n",
    "    response = query_model(instruction, role=\"user\")\n",
    "    entry = {\n",
    "        \"instruction\": instruction,\n",
    "        \"output\": response\n",
    "    }\n",
    "    dataset.append(entry)"
   ]
  },
  {
   "cell_type": "code",
   "execution_count": 17,
   "metadata": {},
   "outputs": [],
   "source": [
    "with open(\"instruction-data-llama3-7b.json\", \"w\") as file:\n",
    "    json.dump(dataset, file, indent=4)"
   ]
  },
  {
   "cell_type": "code",
   "execution_count": 18,
   "metadata": {},
   "outputs": [
    {
     "name": "stdout",
     "output_type": "stream",
     "text": [
      "[\n",
      "    {\n",
      "        \"instruction\": \"What are some good alternatives to social media platforms?\",\n",
      "        \"output\": \"There are many great alternatives to social media platforms that can help you maintain a healthy online presence, reduce distractions, and increase productivity. Here are some popular options:\\n\\n1. **Diaspora**: A decentralized, open-source social network that allows users to control their data.\\n2. **Mastodon**: A fediverse platform that enables users to register on different servers (instances) while maintaining compatibility with other Mastodon instances.\\n3. **PixelFed**: An image-sharing platform that focuses on sharing art, photography, and other creative work.\\n4. **Discord**: A voice chat app primarily used for gaming communities, but also suitable for smaller social groups or online discussions.\\n5. **Telegram**: A popular messaging app with group chats and the ability to create channels for sharing information.\\n6. **Matrix**: An open-source, decentralized platform that enables secure communication through a network of servers (homeservers).\\n7. **Ello**: A community-driven platform focused on artistic and cultural interests, with low-key moderation.\\n8. **Nextdoor**: A social network for neighborhood communities to connect, share local information, and report issues.\\n9. **Slack**: A collaboration tool primarily used by teams and organizations for business communications.\\n10. **Reddit** (community-focused): While not a traditional social media platform, Reddit is a community-driven Q&A site with thousands of subreddits dedicated to specific topics or interests.\\n11. **PeerTube**: An open-source alternative to YouTube that uses blockchain technology for decentralized video sharing.\\n12. **Pixiv**: A Japanese-based online art community where artists can share and discover new artwork.\\n\\nConsider the following factors when choosing an alternative social media platform:\\n\\n1. Purpose: What do you want to achieve with your online presence? (e.g., communication, networking, creative sharing)\\n2. Audience: Who is your target audience?\\n3. Features: Do you need specific features like video sharing, group chats, or profile management?\\n4. Safety and security: Are anonymous moderation and data protection important to you?\\n5. Community vibe: Do you prefer a highly regulated environment or an open, community-driven space?\\n\\nRemember to research each platform's terms of service, community guidelines, and user reviews to ensure they align with your goals and values.\"\n",
      "    },\n",
      "    {\n",
      "        \"instruction\": \"I'm looking for a recipe that combines the flavors of lemon, garlic, and thyme. I think it would be lovely to have a simple recipe for a chicken dish that incorporates these flavors.\",\n",
      "        \"output\": \"What a wonderful combination! The brightCitrusy flavor of lemon, the pungency of garlic, and the earthiness of thyme will create a delightful synergy in this chicken dish. Here's a simple recipe that I think you'll enjoy:\\n\\n**Lemon-Garlic-Thyme Chicken**\\n\\nIngredients:\\n- 4 boneless chicken breasts\\n- 2 cloves garlic, minced\\n- 1/3 cup lemon juice (freshly squeezed)\\n- 1 tablespoon olive oil\\n- 2 tablespoons chopped fresh thyme leaves\"\n",
      "    },\n",
      "    {\n",
      "        \"instruction\": \"What is the current status of the Large Electron-Positron Collider (LEP) facility?\",\n",
      "        \"output\": \"The Large Electron-Positron Collider (LEP) was a particle accelerator located at CERN's European Organization for Nuclear Research in Switzerland. It was one of the largest and most complex scientific instruments ever built, with a circumference of approximately 27 kilometers.\\n\\nLEP operated from 1989 to 2000, and its primary goal was to study the properties of fundamental particles such as electrons, positrons (antielectrons), quarks, and gauge bosons. During its lifetime, LEP produced an enormous amount of data, making significant contributions to our understanding of the Standard Model of particle physics.\\n\\nThe LEP facility ceased operation in 2000 after colliding electrons and positrons at energies up to 209 GeV (gigaelectronvolts). The shutdown was planned to make way for the Large Hadron Collider (LHC), which has been operational since 2008. The LHC is a more powerful and complex particle accelerator, with a circumference of about 27 kilometers and a collision energy of up to 13 TeV (teraelectronvolts).\\n\\nAlthough the LEP facility itself is no longer in operation, many of its components were upgraded or reused for the LHC project. For instance, the LEP tunnel was refurbished and became the main ring of the LHC. Some of the original LEP detectors, such as the ALEPH and DELPHI experiments, were also repurposed as part of the LHCb experiment.\\n\\nToday, the site where the LEP facility once operated is largely used for other research facilities and infrastructure, including the Large Hadron Collider (LHC), the Compact Muon Solenoid (CMS) detector, and the ATLAS detector.\"\n",
      "    },\n",
      "    {\n",
      "        \"instruction\": \"What are the main functions of a computer?\",\n",
      "        \"output\": \"The main functions of a computer can be summarized into five key areas:\\n\\n1. **Data Processing**: A computer takes in data (input) from various sources, such as keyboards, mice, or files, and processes it according to programmed instructions. This processing includes:\\n\\t* Calculations: Performing mathematical operations, like arithmetic, algebra, or geometry.\\n\\t* Logic Operations: Making decisions based on conditions and rules.\\n\\t* Data Manipulation: Organizing, sorting, and filtering data.\\n2. **Storage**: A computer has the ability to store and retrieve data using various media, such as:\\n\\t* Hard Disk Drives (HDDs): Permanent storage for operating systems, applications, and files.\\n\\t* Solid-State Drives (SSDs): Faster, more reliable storage than HDDs.\\n\\t* Memory: Random Access Memory (RAM) holds temporary data and program instructions.\\n3. **Communication**: A computer can connect to various devices and networks, enabling:\\n\\t* Internet Access: Surfing the web, sending/receiving emails, and online services.\\n\\t* Network Communication: Sharing files, printers, or peripherals with other computers.\\n\\t* Print Output: Printing documents, images, or data to paper or digital displays.\\n4. **Control**: A computer can control external devices and systems, such as:\\n\\t* Peripherals: Mice, keyboards, printers, scanners, and other input/output devices.\\n\\t* Robotics: Controlling robots, drones, or autonomous vehicles via programming or sensors.\\n\\t* Automation: Regulating industrial processes, HVAC systems, or home appliances remotely.\\n5. **Output**: A computer provides various output formats, including:\\n\\t* Display Output: Visual representation of data on screens (monitors, TVs, projectors).\\n\\t* Sound Output: Audio playback through speakers, headphones, or digital audio interfaces.\\n\\t* Print Output (as mentioned earlier): Printing documents and images.\\n\\nThese five main functions demonstrate the fundamental capabilities of a computer, which can be applied to various applications, including productivity, entertainment, education, and more.\"\n",
      "    },\n",
      "    {\n",
      "        \"instruction\": \"As I were a teacher, how would you suggest that students learn to write an essay on a prompt about the ethics of artificial intelligence?\",\n",
      "        \"output\": \"What a fascinating topic! Teaching students to explore the ethics of artificial intelligence (AI) through essay writing can be a thought-provoking and rewarding experience. Here's a suggested approach to help them get started:\\n\\n**Before Writing**\\n\\n1. **Introduce the topic**: Provide an overview of AI, its benefits, and concerns related to ethics.\\n2. **Define key concepts**: Clarify terms like \\\"artificial intelligence,\\\" \\\"machine learning,\\\" \\\"algorithm,\\\" and \\\"bias.\\\"\\n3. **Consider ethical frameworks**: Discuss different ethical perspectives, such as utilitarianism, deontology, and virtue ethics. This will help students understand the moral principles guiding AI development and decision-making.\\n4. **Present real-world examples**: Share scenarios or case studies that illustrate the potential ethical dilemmas posed by AI, such as algorithmic bias in hiring practices or facial recognition system's errors.\\n\\n**Writing Process**\\n\\n1. **Brainstorming**: Encourage students to generate ideas and questions related to the ethics of AI. You can also provide prompts to get them started:\\n\\t* How might AI impact employment?\\n\\t* Can AI ever truly be unbiased?\\n\\t* What are the consequences of relying on AI decision-making in healthcare or education?\\n2. **Research and reflection**: Ask students to conduct research on the topic, gathering information from reputable sources (e.g., news articles, academic studies). Encourage them to reflect on their own experiences with AI or observations about its impact on society.\\n3. **Develop a thesis statement**: Help students craft a clear, focused thesis that takes a position on the ethics of AI. For example:\\n\\t* \\\"The incorporation of artificial intelligence into decision-making processes raises significant ethical concerns regarding bias and accountability.\\\"\\n4. **Essay Structure**: Suggest a basic essay structure:\\n\\t* Introduction: Introduce the topic, provide context, and state the thesis.\\n\\t* Body Paragraph 1-2: Develop arguments in support of the thesis.\\n\\t* Body Paragraph 3-4: Present opposing views or challenges to the thesis.\\n\\t* Conclusion: Summarize findings, reiterate the thesis, and propose potential solutions.\\n\\n**Peer Review and Feedback**\\n\\n1. **Pair students**: Assign each student to a peer reviewer who has written an essay on a related topic (e.g., ethics in AI development).\\n2. **Evaluate based on content**: Have reviewers provide feedback on the following:\\n\\t+ Clearness of thesis statement\\n\\t+ Depth and originality of arguments\\n\\t+ Effective use of examples and supporting evidence\\n\\t+ Clarity and coherence of writing\\n\\n**Additional Tips**\\n\\n1. **Encourage critical thinking**: As students write, emphasize the importance of weighing pros and cons, considering potential consequences, and acknowledging the complexity of ethical issues.\\n2. **Use secondary sources**: Supplement primary research with articles from reputable publications, such as The New York Times, The Economist, or Wired, to provide diverse perspectives on AI ethics.\\n3. **Promote nuanced discussions**: Encourage students to approach AI's ethical implications without simplifying the topics.\\n4. **Seek outside expertise**: Invite guest speakers from the fields of computer science, philosophy, law, or ethics to discuss AI's ethical impact and potential solutions.\\n\\nBy following this approach, your students will develop a deeper understanding of the complex ethical issues surrounding AI and gain skills in critical thinking, research, and effective communication.\"\n",
      "    }\n",
      "]"
     ]
    }
   ],
   "source": [
    "!cat instruction-data-llama3-7b.json"
   ]
  },
  {
   "cell_type": "code",
   "execution_count": null,
   "metadata": {},
   "outputs": [],
   "source": []
  }
 ],
 "metadata": {
  "kernelspec": {
   "display_name": ".venv",
   "language": "python",
   "name": "python3"
  },
  "language_info": {
   "codemirror_mode": {
    "name": "ipython",
    "version": 3
   },
   "file_extension": ".py",
   "mimetype": "text/x-python",
   "name": "python",
   "nbconvert_exporter": "python",
   "pygments_lexer": "ipython3",
   "version": "3.9.6"
  }
 },
 "nbformat": 4,
 "nbformat_minor": 2
}
