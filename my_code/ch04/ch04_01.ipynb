{
 "cells": [
  {
   "cell_type": "markdown",
   "metadata": {
    "vscode": {
     "languageId": "plaintext"
    }
   },
   "source": [
    "## 4.1 LLM架构"
   ]
  },
  {
   "cell_type": "code",
   "execution_count": null,
   "metadata": {},
   "outputs": [],
   "source": [
    "GPT_CONFIG_124M = {\n",
    "    \"vocab_size\": 50257,    # Vocabulary size\n",
    "    \"context_length\": 1024, # Context length\n",
    "    \"emb_dim\": 768,         # Embedding dimension\n",
    "    \"n_heads\": 12,          # Number of attention heads\n",
    "    \"n_layers\": 12,         # Number of layers\n",
    "    \"drop_rate\": 0.1,       # Dropout rate\n",
    "    \"qkv_bias\": False       # Query-Key-Value bias\n",
    "}\n",
    "#初始化定义需要的各种超参数"
   ]
  },
  {
   "cell_type": "code",
   "execution_count": null,
   "metadata": {},
   "outputs": [],
   "source": [
    "import torch\n",
    "import torch.nn as nn\n",
    "\n",
    "class DummyGPTModel(nn.Module):\n",
    "    def __init__(self, cfg):\n",
    "        super().__init__()\n",
    "        # 词嵌入层，将输入索引转换为词向量，词表大小由字典大小和特征维度决定。\n",
    "        self.tok_emb = nn.Embedding(cfg[\"vocab_size\"], cfg[\"emb_dim\"])\n",
    "        # 位置信息嵌入层，基于文本长度和特征维度生成位置信息。\n",
    "        self.pos_emb = nn.Embedding(cfg[\"context_length\"], cfg[\"emb_dim\"])\n",
    "        # Dropout 层，用于随机丢弃一部分嵌入信息以减少过拟合。\n",
    "        self.drop_emb = nn.Dropout(cfg[\"drop_rate\"])\n",
    "\n",
    "        # 使用多个 Transformer 块（占位符）\n",
    "        # Transformer 模块的堆叠，模型核心部分。\n",
    "        self.trf_blocks = nn.Sequential(\n",
    "            *[DummyTransformerBlock(cfg) for _ in range(cfg[\"n_layers\"])]\n",
    "        )\n",
    "\n",
    "        # 使用归一化层（占位符）\n",
    "        # 最终归一化层，用于调整特征分布。\n",
    "        self.final_norm = DummyLayerNorm(cfg[\"emb_dim\"])\n",
    "\n",
    "        # 输出层，将特征映射到词表分布，最终预测输出单词。\n",
    "        self.out_head = nn.Linear(\n",
    "            cfg[\"emb_dim\"], cfg[\"vocab_size\"], bias=False\n",
    "        )\n",
    "\n",
    "    def forward(self, in_idx):\n",
    "        # 获取批次大小和序列长度。\n",
    "        batch_size, seq_len = in_idx.shape\n",
    "\n",
    "        # 根据输入索引生成词嵌入。\n",
    "        tok_embeds = self.tok_emb(in_idx)\n",
    "        # 生成对应的位置信息嵌入。\n",
    "        # arange 生成一个从0到seq_len-1的序列，device=in_idx.device 指定设备。\n",
    "        pos_embeds = self.pos_emb(torch.arange(seq_len, device=in_idx.device))\n",
    "\n",
    "        # 将词嵌入和位置信息嵌入相加。\n",
    "        x = tok_embeds + pos_embeds\n",
    "        # 应用 Dropout 随机丢弃部分信息。\n",
    "        x = self.drop_emb(x)\n",
    "        # 通过多个 Transformer 块处理特征。\n",
    "        x = self.trf_blocks(x)\n",
    "        # 应用最终的归一化层。\n",
    "        x = self.final_norm(x)\n",
    "        # 将隐藏状态映射到词表分布，生成预测结果。\n",
    "        logits = self.out_head(x)\n",
    "\n",
    "        return logits\n",
    "    \n",
    "class DummyTransformerBlock(nn.Module):\n",
    "    # Transformer 块的占位类。\n",
    "    def __init__(self, cfg):\n",
    "        super().__init__()\n",
    "        # 占位，实际模型应实现注意力机制和前馈网络。\n",
    "    \n",
    "    def forward(self, x):\n",
    "        # 此块不执行任何操作，仅返回输入。\n",
    "        return x\n",
    "\n",
    "class DummyLayerNorm(nn.Module):\n",
    "    # 归一化层的占位类。\n",
    "    def __init__(self, normalized_shape, eps=1e-5):\n",
    "        super().__init__()\n",
    "        # 参数用于模拟 LayerNorm 的接口。\n",
    "    \n",
    "    def forward(self, x):\n",
    "        # 此层不执行任何操作，仅返回输入。\n",
    "        return x"
   ]
  },
  {
   "cell_type": "code",
   "execution_count": null,
   "metadata": {},
   "outputs": [],
   "source": [
    "import tiktoken\n",
    "\n",
    "# 使用gpt2的分词器\n",
    "tokenizer = tiktoken.get_encoding(\"gpt2\")\n",
    "\n",
    "batch = []\n",
    "\n",
    "txt1 = \"Every effort moves you\"\n",
    "txt2 = \"Every day holds a\"\n",
    "\n",
    "# tokenize\n",
    "batch.append(torch.tensor(tokenizer.encode(txt1)))\n",
    "batch.append(torch.tensor(tokenizer.encode(txt2)))\n",
    "\n",
    "# 构成batch\n",
    "batch = torch.stack(batch, dim=0)\n",
    "\n",
    "print(batch)\n"
   ]
  },
  {
   "cell_type": "code",
   "execution_count": null,
   "metadata": {},
   "outputs": [],
   "source": [
    "# 试运行一下模型\n",
    "torch.manual_seed(123)\n",
    "model = DummyGPTModel(GPT_CONFIG_124M)\n",
    "\n",
    "logits = model(batch)\n",
    "print(\"Output shape:\", logits.shape)\n",
    "print(logits)"
   ]
  },
  {
   "cell_type": "code",
   "execution_count": null,
   "metadata": {},
   "outputs": [],
   "source": []
  },
  {
   "cell_type": "code",
   "execution_count": null,
   "metadata": {},
   "outputs": [],
   "source": []
  },
  {
   "cell_type": "code",
   "execution_count": null,
   "metadata": {},
   "outputs": [],
   "source": []
  }
 ],
 "metadata": {
  "language_info": {
   "name": "python"
  }
 },
 "nbformat": 4,
 "nbformat_minor": 2
}
