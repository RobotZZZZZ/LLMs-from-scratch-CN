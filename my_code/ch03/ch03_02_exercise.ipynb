{
 "cells": [
  {
   "cell_type": "markdown",
   "metadata": {
    "vscode": {
     "languageId": "plaintext"
    }
   },
   "source": [
    "# 练习3.1"
   ]
  },
  {
   "cell_type": "markdown",
   "metadata": {
    "vscode": {
     "languageId": "plaintext"
    }
   },
   "source": [
    "**Comparing SelfAttention_v1 and SelfAttention_v2**  \n",
    "Your task is to correctly assign the weights from an instance of\n",
    "SelfAttention_v2 to an instance of SelfAttention_v1. To do this, you need\n",
    "to understand the relationship between the weights in both versions. (Hint:\n",
    "nn.Linear stores the weight matrix in a transposed form.) After the\n",
    "assignment, you should observe that both instances produce the same outputs. "
   ]
  },
  {
   "cell_type": "code",
   "execution_count": 3,
   "metadata": {},
   "outputs": [],
   "source": [
    "import torch\n",
    "import torch.nn as nn\n",
    "\n",
    "class SelfAttention_v1(nn.Module):\n",
    "    \n",
    "    def __init__(self, d_in, d_out):\n",
    "        # 根据输入、输出维度初始化参数, Q、K、V矩阵(可学习参数)\n",
    "        super().__init__()\n",
    "        self.W_query = nn.Parameter(torch.rand(d_in, d_out))\n",
    "        self.W_key = nn.Parameter(torch.rand(d_in, d_out))\n",
    "        self.W_value = nn.Parameter(torch.rand(d_in, d_out))\n",
    "\n",
    "    def forward(self, x):\n",
    "        # 计算keys, queries, values\n",
    "        keys = x @ self.W_key\n",
    "        queries = x @ self.W_query\n",
    "        values = x @ self.W_value\n",
    "\n",
    "        # 计算attn weights\n",
    "        attn_scores = queries @ keys.T\n",
    "        attn_weights = torch.softmax(\n",
    "            attn_scores / (keys.shape[1] ** 0.5), dim=-1\n",
    "        )\n",
    "        # 计算上下文向量\n",
    "        context_vec = attn_weights @ values\n",
    "        \n",
    "        return context_vec\n",
    "        "
   ]
  },
  {
   "cell_type": "code",
   "execution_count": 2,
   "metadata": {},
   "outputs": [],
   "source": [
    "class SelfAttention_v2(nn.Module):\n",
    "\n",
    "    def __init__(self, d_in, d_out, qkv_bias=False):\n",
    "        # 根据输入、输出维度初始化nn.Linear参数, Q、K、V矩阵(可学习参数)\n",
    "        super().__init__()\n",
    "        self.W_query = nn.Linear(d_in, d_out, bias=qkv_bias)\n",
    "        self.W_key = nn.Linear(d_in, d_out, bias=qkv_bias)\n",
    "        self.W_value = nn.Linear(d_in, d_out, bias=qkv_bias)\n",
    "\n",
    "    def forward(self, x):\n",
    "        # 计算keys, queries, values\n",
    "        keys = self.W_key(x)\n",
    "        queries = self.W_query(x)\n",
    "        values = self.W_value(x)\n",
    "\n",
    "        # 计算attn scores\n",
    "        attn_scores = queries @ keys.T\n",
    "        attn_weights = torch.softmax(attn_scores / (keys.shape[-1] ** 0.5), dim=-1)\n",
    "\n",
    "        # 计算上下文向量\n",
    "        context_vec = attn_weights @ values\n",
    "\n",
    "        return context_vec"
   ]
  },
  {
   "cell_type": "code",
   "execution_count": 18,
   "metadata": {},
   "outputs": [
    {
     "name": "stdout",
     "output_type": "stream",
     "text": [
      "torch.Size([2, 3])\n",
      "torch.Size([2, 3])\n",
      "torch.Size([2, 3])\n",
      "torch.Size([3, 2])\n",
      "torch.Size([3, 2])\n",
      "torch.Size([3, 2])\n",
      "******************** sa_v2 ********************\n",
      "tensor([[-0.5337, -0.1051],\n",
      "        [-0.5323, -0.1080],\n",
      "        [-0.5323, -0.1079],\n",
      "        [-0.5297, -0.1076],\n",
      "        [-0.5311, -0.1066],\n",
      "        [-0.5299, -0.1081]], grad_fn=<MmBackward0>)\n",
      "******************** sa_v1 ********************\n",
      "tensor([[-0.5337, -0.1051],\n",
      "        [-0.5323, -0.1080],\n",
      "        [-0.5323, -0.1079],\n",
      "        [-0.5297, -0.1076],\n",
      "        [-0.5311, -0.1066],\n",
      "        [-0.5299, -0.1081]], grad_fn=<MmBackward0>)\n"
     ]
    }
   ],
   "source": [
    "# 测试输入\n",
    "inputs = torch.tensor(\n",
    "    [[0.43, 0.15, 0.89],  # Your     (x^1)\n",
    "     [0.55, 0.87, 0.66],  # journey  (x^2)\n",
    "     [0.57, 0.85, 0.64],  # starts   (x^3)\n",
    "     [0.22, 0.58, 0.33],  # with     (x^4)\n",
    "     [0.77, 0.25, 0.10],  # one      (x^5)\n",
    "     [0.05, 0.80, 0.55]]  # step     (x^6)\n",
    ")\n",
    "d_in = inputs.shape[1]\n",
    "d_out = 2\n",
    "\n",
    "torch.manual_seed(123)\n",
    "sa_v2 = SelfAttention_v2(d_in, d_out)\n",
    "print(sa_v2.W_query.weight.shape)\n",
    "print(sa_v2.W_key.weight.shape)\n",
    "print(sa_v2.W_value.weight.shape)\n",
    "\n",
    "sa_v1 = SelfAttention_v1(d_in, d_out)\n",
    "print(sa_v1.W_query.shape)\n",
    "print(sa_v1.W_key.shape)\n",
    "print(sa_v1.W_value.shape)\n",
    "\n",
    "sa_v1.W_query = torch.nn.Parameter(sa_v2.W_query.weight.T)\n",
    "sa_v1.W_key = torch.nn.Parameter(sa_v2.W_key.weight.T)\n",
    "sa_v1.W_value = torch.nn.Parameter(sa_v2.W_value.weight.T)\n",
    "\n",
    "print(\"*\" * 20, \"sa_v2\", \"*\" * 20)\n",
    "print(sa_v2(inputs))\n",
    "print(\"*\" * 20, \"sa_v1\", \"*\" * 20)\n",
    "print(sa_v1(inputs))\n"
   ]
  },
  {
   "cell_type": "markdown",
   "metadata": {
    "vscode": {
     "languageId": "plaintext"
    }
   },
   "source": [
    "# 练习3.2"
   ]
  },
  {
   "cell_type": "markdown",
   "metadata": {
    "vscode": {
     "languageId": "plaintext"
    }
   },
   "source": [
    "**Returning 2-dimensional embedding vectors**  \n",
    "Change the input arguments for the MultiHeadAttentionWrapper(...,\n",
    "num_heads=2) call such that the output context vectors are 2-dimensional\n",
    "instead of 4-dimensional while keeping the setting num_heads=2. Hint: You\n",
    "don't have to modify the class implementation; you just have to change one of\n",
    "the other input arguments."
   ]
  },
  {
   "cell_type": "code",
   "execution_count": 19,
   "metadata": {},
   "outputs": [],
   "source": [
    "class CausalAttention(nn.Module):\n",
    "    def __init__(self, d_in, d_out, context_length, \n",
    "                 dropout, qkv_bias=False):\n",
    "        # 根据输入、输出维度初始化参数\n",
    "        super().__init__()\n",
    "        self.d_out = d_out\n",
    "        self.W_query = nn.Linear(d_in, d_out, bias=qkv_bias)\n",
    "        self.W_key = nn.Linear(d_in, d_out, bias=qkv_bias)\n",
    "        self.W_value = nn.Linear(d_in, d_out, bias=qkv_bias)\n",
    "        # 新增加的dropout层\n",
    "        self.dropout = nn.Dropout(dropout)\n",
    "        # 创建mask，并注册为缓存，不参与梯度更新\n",
    "        self.register_buffer('mask', torch.triu(torch.ones(context_length, context_length), diagonal=1))\n",
    "    \n",
    "    def forward(self, x):\n",
    "        # 计算keys, queries, values\n",
    "        b, num_tokens, d_in = x.shape\n",
    "        keys = self.W_key(x)\n",
    "        queries = self.W_query(x)\n",
    "        values = self.W_value(x)\n",
    "\n",
    "        # 增加mask逻辑计算attn weights\n",
    "        attn_scores = queries @ keys.transpose(1, 2)\n",
    "        attn_scores.masked_fill_(self.mask.bool()[:num_tokens, :num_tokens], -torch.inf)\n",
    "        attn_weights = torch.softmax(attn_scores / (keys.shape[-1] ** 0.5), dim=-1)\n",
    "        \n",
    "        # 使用dropout防止过拟合\n",
    "        attn_weights = self.dropout(attn_weights)\n",
    "\n",
    "        # 计算上下文向量\n",
    "        context_vec = attn_weights @ values\n",
    "        \n",
    "        return context_vec"
   ]
  },
  {
   "cell_type": "code",
   "execution_count": 20,
   "metadata": {},
   "outputs": [],
   "source": [
    "class MultiHeadAttentionWrapper(nn.Module):\n",
    "    def __init__(self, d_in, d_out, context_length, dropout, num_heads, qkv_bias=False):\n",
    "        super().__init__()\n",
    "        # 根据num_heads初始化多个单头注意力层\n",
    "        self.heads = nn.ModuleList(\n",
    "            [CausalAttention(d_in, d_out, context_length, dropout, qkv_bias)\n",
    "             for _ in range(num_heads)]\n",
    "        )\n",
    "\n",
    "    def forward(self, x):\n",
    "        # 将每个head的输出拼接起来\n",
    "        return torch.cat([head(x) for head in self.heads], dim=-1)"
   ]
  },
  {
   "cell_type": "code",
   "execution_count": 32,
   "metadata": {},
   "outputs": [
    {
     "name": "stdout",
     "output_type": "stream",
     "text": [
      "torch.Size([2, 6, 3])\n",
      "tensor([[[-0.4798],\n",
      "         [-0.4475],\n",
      "         [-0.4361],\n",
      "         [-0.3765],\n",
      "         [-0.3470],\n",
      "         [-0.3309]],\n",
      "\n",
      "        [[-0.4798],\n",
      "         [-0.4475],\n",
      "         [-0.4361],\n",
      "         [-0.3765],\n",
      "         [-0.3470],\n",
      "         [-0.3309]]], grad_fn=<UnsafeViewBackward0>)\n",
      "context_vecs.shape: torch.Size([2, 6, 1])\n"
     ]
    }
   ],
   "source": [
    "inputs = torch.tensor(\n",
    "    [[0.43, 0.15, 0.89],  # Your     (x^1)\n",
    "     [0.55, 0.87, 0.66],  # journey  (x^2)\n",
    "     [0.57, 0.85, 0.64],  # starts   (x^3)\n",
    "     [0.22, 0.58, 0.33],  # with     (x^4)\n",
    "     [0.77, 0.25, 0.10],  # one      (x^5)\n",
    "     [0.05, 0.80, 0.55]]  # step     (x^6)\n",
    ")\n",
    "\n",
    "batch = torch.stack((inputs, inputs), dim=0)\n",
    "print(batch.shape)\n",
    "\n",
    "context_length = batch.shape[1]\n",
    "d_in = batch.shape[2]\n",
    "d_out = 1\n",
    "ca = CausalAttention(d_in, d_out, context_length, 0.0)\n",
    "\n",
    "context_vecs = ca(batch)\n",
    "\n",
    "print(context_vecs)\n",
    "print(\"context_vecs.shape:\", context_vecs.shape)"
   ]
  },
  {
   "cell_type": "code",
   "execution_count": 34,
   "metadata": {},
   "outputs": [
    {
     "name": "stdout",
     "output_type": "stream",
     "text": [
      "tensor([[[-0.1786,  0.5817],\n",
      "         [-0.0753,  0.5727],\n",
      "         [-0.0342,  0.5687],\n",
      "         [-0.0138,  0.4944],\n",
      "         [ 0.0254,  0.4620],\n",
      "         [ 0.0106,  0.4427]],\n",
      "\n",
      "        [[-0.1786,  0.5817],\n",
      "         [-0.0753,  0.5727],\n",
      "         [-0.0342,  0.5687],\n",
      "         [-0.0138,  0.4944],\n",
      "         [ 0.0254,  0.4620],\n",
      "         [ 0.0106,  0.4427]]], grad_fn=<CatBackward0>)\n",
      "context_vecs.shape: torch.Size([2, 6, 2])\n"
     ]
    }
   ],
   "source": [
    "context_length = batch.shape[1]\n",
    "d_in, d_out = 3, 1\n",
    "mha = MultiHeadAttentionWrapper(\n",
    "    d_in, d_out, context_length, 0.0, num_heads=2\n",
    ")\n",
    "\n",
    "context_vecs = mha(batch)\n",
    "\n",
    "print(context_vecs)\n",
    "print(\"context_vecs.shape:\", context_vecs.shape)"
   ]
  },
  {
   "cell_type": "markdown",
   "metadata": {
    "vscode": {
     "languageId": "plaintext"
    }
   },
   "source": [
    "# 练习3.3"
   ]
  },
  {
   "cell_type": "markdown",
   "metadata": {
    "vscode": {
     "languageId": "plaintext"
    }
   },
   "source": [
    "**Initializing GPT-2 size attention modules**  \n",
    "Using the MultiHeadAttention class, initialize a multi-head attention\n",
    "module that has the same number of attention heads as the smallest GPT-2\n",
    "model (12 attention heads). Also ensure that you use the respective input and\n",
    "output embedding sizes similar to GPT-2 (768 dimensions). Note that the\n",
    "smallest GPT-2 model supports a context length of 1024 tokens."
   ]
  },
  {
   "cell_type": "code",
   "execution_count": 24,
   "metadata": {},
   "outputs": [],
   "source": [
    "# 利用权重拆分实现多头注意力，更高效\n",
    "class MultiHeadAttention(nn.Module):\n",
    "    def __init__(self, d_in, d_out, context_length, dropout, num_heads, qkv_bias=False):\n",
    "        super().__init__()\n",
    "\n",
    "        # 确保d_out是否能被num_heads整除\n",
    "        assert (d_out % num_heads == 0), \"d_out must be divisible by num_heads\"\n",
    "\n",
    "        # 参数初始化\n",
    "        self.d_out = d_out\n",
    "        self.num_heads = num_heads\n",
    "        self.head_dim = d_out // num_heads\n",
    "        self.W_query = nn.Linear(d_in, d_out, bias=qkv_bias)\n",
    "        self.W_key = nn.Linear(d_in, d_out, bias=qkv_bias)\n",
    "        self.W_value = nn.Linear(d_in, d_out, bias=qkv_bias)\n",
    "\n",
    "        # 增加线性层，不改变维度\n",
    "        self.out_proj = nn.Linear(d_out, d_out)\n",
    "\n",
    "        self.dropout = nn.Dropout(dropout)\n",
    "        self.register_buffer(\"mask\", torch.triu(torch.ones(context_length, context_length), diagonal=1))\n",
    "    \n",
    "    def forward(self, x):\n",
    "        b, num_tokens, d_in = x.shape\n",
    "\n",
    "        # 计算keys, queries, values\n",
    "        keys = self.W_key(x)\n",
    "        queries = self.W_query(x)\n",
    "        values = self.W_value(x)\n",
    "\n",
    "        # 将keys, queries, values拆分成多个head\n",
    "        keys = keys.view(b, num_tokens, self.num_heads, self.head_dim)\n",
    "        values = values.view(b, num_tokens, self.num_heads, self.head_dim)\n",
    "        queries = queries.view(b, num_tokens, self.num_heads, self.head_dim)\n",
    "        # 转置，将num_heads移到前面，方便后续计算\n",
    "        # shape = b, num_heads, num_tokens, head_dim\n",
    "        keys = keys.transpose(1, 2)\n",
    "        queries = queries.transpose(1, 2)\n",
    "        values = values.transpose(1, 2)\n",
    "\n",
    "        # 计算attn weights\n",
    "        # shape = b, num_heads, num_tokens, num_tokens\n",
    "        attn_scores = queries @ keys.transpose(2, 3)\n",
    "        # mask未来信息, 避免信息泄露，同时适配不同token长度\n",
    "        mask_bool = self.mask.bool()[:num_tokens, :num_tokens]\n",
    "        attn_scores.masked_fill_(mask_bool, -torch.inf)\n",
    "\n",
    "        # 归一化\n",
    "        attn_weights = torch.softmax(attn_scores / (keys.shape[-1] ** 0.5), dim=-1)\n",
    "\n",
    "        # 使用dropout防止过拟合\n",
    "        attn_weights = self.dropout(attn_weights)\n",
    "        \n",
    "        # 计算上下文向量\n",
    "        # shape = b, num_tokens, num_heads, head_dim\n",
    "        context_vec = (attn_weights @ values).transpose(1, 2)\n",
    "        # 调整上下文形状\n",
    "        # shape = b, num_tokens, d_out(=num_heads * head_dim)\n",
    "        # 在进行view之前，需要先进行contiguous()，否则会报错\n",
    "        context_vec = context_vec.contiguous().view(b, num_tokens, self.d_out)\n",
    "        # 线性层，增加一次变换\n",
    "        context_vec = self.out_proj(context_vec)\n",
    "\n",
    "        return context_vec\n"
   ]
  },
  {
   "cell_type": "code",
   "execution_count": 37,
   "metadata": {},
   "outputs": [
    {
     "name": "stdout",
     "output_type": "stream",
     "text": [
      "torch.Size([10, 768])\n",
      "torch.Size([2, 10, 768])\n",
      "tensor([[[ 0.1412,  0.0380,  0.2516,  ...,  0.1747, -0.3599, -0.0996],\n",
      "         [ 0.2090,  0.0488,  0.2684,  ...,  0.1145, -0.2759, -0.0632],\n",
      "         [ 0.1183,  0.0207,  0.2602,  ...,  0.1041, -0.2878, -0.0919],\n",
      "         ...,\n",
      "         [ 0.1387,  0.0279,  0.2362,  ...,  0.1131, -0.2243, -0.0805],\n",
      "         [ 0.1103,  0.0187,  0.2680,  ...,  0.1130, -0.2266, -0.0812],\n",
      "         [ 0.1139,  0.0234,  0.2802,  ...,  0.0983, -0.2193, -0.1011]],\n",
      "\n",
      "        [[ 0.1412,  0.0380,  0.2516,  ...,  0.1747, -0.3599, -0.0996],\n",
      "         [ 0.2090,  0.0488,  0.2684,  ...,  0.1145, -0.2759, -0.0632],\n",
      "         [ 0.1183,  0.0207,  0.2602,  ...,  0.1041, -0.2878, -0.0919],\n",
      "         ...,\n",
      "         [ 0.1387,  0.0279,  0.2362,  ...,  0.1131, -0.2243, -0.0805],\n",
      "         [ 0.1103,  0.0187,  0.2680,  ...,  0.1130, -0.2266, -0.0812],\n",
      "         [ 0.1139,  0.0234,  0.2802,  ...,  0.0983, -0.2193, -0.1011]]],\n",
      "       grad_fn=<ViewBackward0>)\n",
      "context_vecs.shape: torch.Size([2, 10, 768])\n"
     ]
    }
   ],
   "source": [
    "torch.manual_seed(123)\n",
    "\n",
    "d_in = 768\n",
    "d_out = 768\n",
    "context_length = 1024\n",
    "num_heads = 12 # 64 * 12 = 768\n",
    "\n",
    "large_inputs = torch.rand(10, d_in)\n",
    "large_batch = torch.stack([large_inputs, large_inputs], dim=0)\n",
    "print(large_inputs.shape)\n",
    "print(large_batch.shape)\n",
    "\n",
    "mha = MultiHeadAttention(d_in, d_out, context_length, 0.0, num_heads=num_heads)\n",
    "\n",
    "context_vecs = mha(large_batch)\n",
    "\n",
    "print(context_vecs)\n",
    "print(\"context_vecs.shape:\", context_vecs.shape)"
   ]
  },
  {
   "cell_type": "code",
   "execution_count": 43,
   "metadata": {},
   "outputs": [
    {
     "name": "stdout",
     "output_type": "stream",
     "text": [
      "2360064\n",
      "2360064\n"
     ]
    }
   ],
   "source": [
    "# 可训练的参数量\n",
    "def count_parameters(model):\n",
    "    return sum(p.numel() for p in model.parameters() if p.requires_grad)\n",
    "\n",
    "### 参数计算\n",
    "# q、k、v = d_in * d_out * 3 = 768 * 768 * 3 = 1769472\n",
    "# linear_proj = 768 * 768 + 768(bias) = 590592\n",
    "\n",
    "print(count_parameters(mha))\n",
    "print(768 * 768 * 3 + 768 * 768 + 768)"
   ]
  },
  {
   "cell_type": "code",
   "execution_count": null,
   "metadata": {},
   "outputs": [],
   "source": []
  }
 ],
 "metadata": {
  "kernelspec": {
   "display_name": ".venv",
   "language": "python",
   "name": "python3"
  },
  "language_info": {
   "codemirror_mode": {
    "name": "ipython",
    "version": 3
   },
   "file_extension": ".py",
   "mimetype": "text/x-python",
   "name": "python",
   "nbconvert_exporter": "python",
   "pygments_lexer": "ipython3",
   "version": "3.9.6"
  }
 },
 "nbformat": 4,
 "nbformat_minor": 2
}
